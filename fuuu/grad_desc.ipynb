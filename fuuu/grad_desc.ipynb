{
  "nbformat": 4,
  "nbformat_minor": 0,
  "metadata": {
    "colab": {
      "name": "grad-desc.ipynb",
      "version": "0.3.2",
      "provenance": [],
      "include_colab_link": true
    },
    "kernelspec": {
      "name": "python3",
      "display_name": "Python 3"
    },
    "accelerator": "GPU"
  },
  "cells": [
    {
      "cell_type": "markdown",
      "metadata": {
        "id": "view-in-github",
        "colab_type": "text"
      },
      "source": [
        "<a href=\"https://colab.research.google.com/github/cupofphotones/Neural_Networks_and_CV/blob/master/fuuu/grad_desc.ipynb\" target=\"_parent\"><img src=\"https://colab.research.google.com/assets/colab-badge.svg\" alt=\"Open In Colab\"/></a>"
      ]
    },
    {
      "cell_type": "markdown",
      "metadata": {
        "id": "J3hgy2Sky8Z2",
        "colab_type": "text"
      },
      "source": [
        "[Видос](https://youtu.be/za_C3TTZK8Q)"
      ]
    },
    {
      "cell_type": "code",
      "metadata": {
        "id": "lWDK2XZty6KP",
        "colab_type": "code",
        "colab": {
          "base_uri": "https://localhost:8080/",
          "height": 34
        },
        "outputId": "51dffad3-c85c-4e9b-98f8-8e6f2371cb0c"
      },
      "source": [
        "import torch\n",
        "\n",
        "x = torch.tensor(\n",
        "    [[1.,  2.,  3.,  4.],\n",
        "     [5.,  6.,  7.,  8.],\n",
        "     [9., 10., 11., 12.]], requires_grad=True)\n",
        "\n",
        "#######\n",
        "device = torch.device('cuda:0' \n",
        "                      if torch.cuda.is_available() \n",
        "                      else 'cpu')\n",
        "x = x.to(device)\n",
        "#######\n",
        "\n",
        "function = 10 * (x ** 2).sum()\n",
        "\n",
        "function.backward()\n",
        "\n",
        "print(x.grad, '<- gradient')"
      ],
      "execution_count": 5,
      "outputs": [
        {
          "output_type": "stream",
          "text": [
            "None <- gradient\n"
          ],
          "name": "stdout"
        }
      ]
    },
    {
      "cell_type": "code",
      "metadata": {
        "id": "jju-lmbEGOV1",
        "colab_type": "code",
        "colab": {}
      },
      "source": [
        ""
      ],
      "execution_count": 0,
      "outputs": []
    }
  ]
}